{
 "cells": [
  {
   "cell_type": "code",
   "execution_count": 5,
   "metadata": {},
   "outputs": [],
   "source": [
    "import pandas as pd\n",
    "import os,re,sys,subprocess"
   ]
  },
  {
   "cell_type": "code",
   "execution_count": 6,
   "metadata": {},
   "outputs": [],
   "source": [
    "links = pd.read_csv('video_links.csv',encoding='utf-8')\n",
    "links = links.dropna(axis=1, how='all')\n",
    "category = links.Category.unique()"
   ]
  },
  {
   "cell_type": "code",
   "execution_count": 7,
   "metadata": {},
   "outputs": [
    {
     "data": {
      "text/plain": [
       "array([u'nature_parks', u'landmarks', u'outdoor_activities', u'museum'],\n",
       "      dtype=object)"
      ]
     },
     "execution_count": 7,
     "metadata": {},
     "output_type": "execute_result"
    }
   ],
   "source": [
    "category"
   ]
  },
  {
   "cell_type": "code",
   "execution_count": null,
   "metadata": {},
   "outputs": [
    {
     "name": "stdout",
     "output_type": "stream",
     "text": [
      "nature_parks\n"
     ]
    }
   ],
   "source": [
    "for c in category:\n",
    "    print c\n",
    "    t = links[links.Category == c]\n",
    "    for row in t.to_dict('records'):\n",
    "        command =\"youtube-dl -o \"+c+'_'+str(row['product_id'])+\".mp4 --sub-format vtt --convert-subs srt --write-auto-sub --sub-lang en -f mp4 \"+str(row['URLS'])\n",
    "        subprocess.call(command, shell=True)"
   ]
  },
  {
   "cell_type": "code",
   "execution_count": 9,
   "metadata": {},
   "outputs": [
    {
     "data": {
      "text/html": [
       "<div>\n",
       "<style scoped>\n",
       "    .dataframe tbody tr th:only-of-type {\n",
       "        vertical-align: middle;\n",
       "    }\n",
       "\n",
       "    .dataframe tbody tr th {\n",
       "        vertical-align: top;\n",
       "    }\n",
       "\n",
       "    .dataframe thead th {\n",
       "        text-align: right;\n",
       "    }\n",
       "</style>\n",
       "<table border=\"1\" class=\"dataframe\">\n",
       "  <thead>\n",
       "    <tr style=\"text-align: right;\">\n",
       "      <th></th>\n",
       "      <th>product_id</th>\n",
       "      <th>source_product_name</th>\n",
       "      <th>City</th>\n",
       "      <th>Category</th>\n",
       "      <th>source_product_id</th>\n",
       "      <th>URLS</th>\n",
       "    </tr>\n",
       "  </thead>\n",
       "  <tbody>\n",
       "    <tr>\n",
       "      <th>0</th>\n",
       "      <td>2600006</td>\n",
       "      <td>Luxembourg Gardens</td>\n",
       "      <td>Paris</td>\n",
       "      <td>Nature &amp; parks</td>\n",
       "      <td>d189687</td>\n",
       "      <td>https://www.youtube.com/watch?v=fQAAMSedWS0</td>\n",
       "    </tr>\n",
       "    <tr>\n",
       "      <th>1</th>\n",
       "      <td>2600023</td>\n",
       "      <td>Buckingham Palace</td>\n",
       "      <td>London</td>\n",
       "      <td>Nature &amp; parks</td>\n",
       "      <td>d187549</td>\n",
       "      <td>https://www.youtube.com/watch?v=Tvx3o48Rc1U</td>\n",
       "    </tr>\n",
       "    <tr>\n",
       "      <th>2</th>\n",
       "      <td>2500009</td>\n",
       "      <td>Eiffel Tower</td>\n",
       "      <td>Paris</td>\n",
       "      <td>Sights &amp; Landmarks</td>\n",
       "      <td>d188151</td>\n",
       "      <td>https://www.youtube.com/watch?v=pvZRgAZ2g6c</td>\n",
       "    </tr>\n",
       "    <tr>\n",
       "      <th>3</th>\n",
       "      <td>2500021</td>\n",
       "      <td>Churchill War Rooms</td>\n",
       "      <td>London</td>\n",
       "      <td>Sights &amp; Landmarks</td>\n",
       "      <td>d194299</td>\n",
       "      <td>https://www.youtube.com/watch?v=bEC-a8CKHJ8</td>\n",
       "    </tr>\n",
       "    <tr>\n",
       "      <th>4</th>\n",
       "      <td>2700023</td>\n",
       "      <td>Thames Rockets</td>\n",
       "      <td>London</td>\n",
       "      <td>Outdoor activities</td>\n",
       "      <td>d1526046</td>\n",
       "      <td>https://www.youtube.com/watch?v=n3xy6sp3iqg</td>\n",
       "    </tr>\n",
       "    <tr>\n",
       "      <th>5</th>\n",
       "      <td>2700011</td>\n",
       "      <td>Fat Tire Tours Berlin</td>\n",
       "      <td>Berlin</td>\n",
       "      <td>Outdoor activities</td>\n",
       "      <td>d736467</td>\n",
       "      <td>https://www.youtube.com/watch?v=qYKkulHdfHY</td>\n",
       "    </tr>\n",
       "    <tr>\n",
       "      <th>6</th>\n",
       "      <td>2800006</td>\n",
       "      <td>Musee d'Orsay</td>\n",
       "      <td>Paris</td>\n",
       "      <td>Museum</td>\n",
       "      <td>d188150</td>\n",
       "      <td>https://www.youtube.com/watch?v=nwSMOrwH9IA</td>\n",
       "    </tr>\n",
       "    <tr>\n",
       "      <th>7</th>\n",
       "      <td>2800021</td>\n",
       "      <td>National Gallery</td>\n",
       "      <td>London</td>\n",
       "      <td>Museum</td>\n",
       "      <td>d188862</td>\n",
       "      <td>https://www.youtube.com/watch?v=TsSKnRIk0S8</td>\n",
       "    </tr>\n",
       "  </tbody>\n",
       "</table>\n",
       "</div>"
      ],
      "text/plain": [
       "   product_id    source_product_name    City            Category  \\\n",
       "0     2600006     Luxembourg Gardens   Paris      Nature & parks   \n",
       "1     2600023      Buckingham Palace  London      Nature & parks   \n",
       "2     2500009           Eiffel Tower   Paris  Sights & Landmarks   \n",
       "3     2500021    Churchill War Rooms  London  Sights & Landmarks   \n",
       "4     2700023         Thames Rockets  London  Outdoor activities   \n",
       "5     2700011  Fat Tire Tours Berlin  Berlin  Outdoor activities   \n",
       "6     2800006          Musee d'Orsay   Paris              Museum   \n",
       "7     2800021       National Gallery  London              Museum   \n",
       "\n",
       "  source_product_id                                         URLS  \n",
       "0           d189687  https://www.youtube.com/watch?v=fQAAMSedWS0  \n",
       "1           d187549  https://www.youtube.com/watch?v=Tvx3o48Rc1U  \n",
       "2           d188151  https://www.youtube.com/watch?v=pvZRgAZ2g6c  \n",
       "3           d194299  https://www.youtube.com/watch?v=bEC-a8CKHJ8  \n",
       "4          d1526046  https://www.youtube.com/watch?v=n3xy6sp3iqg  \n",
       "5           d736467  https://www.youtube.com/watch?v=qYKkulHdfHY  \n",
       "6           d188150  https://www.youtube.com/watch?v=nwSMOrwH9IA  \n",
       "7           d188862  https://www.youtube.com/watch?v=TsSKnRIk0S8  "
      ]
     },
     "execution_count": 9,
     "metadata": {},
     "output_type": "execute_result"
    }
   ],
   "source": [
    "links\n"
   ]
  },
  {
   "cell_type": "code",
   "execution_count": null,
   "metadata": {},
   "outputs": [],
   "source": []
  }
 ],
 "metadata": {
  "kernelspec": {
   "display_name": "Python 2",
   "language": "python",
   "name": "python2"
  },
  "language_info": {
   "codemirror_mode": {
    "name": "ipython",
    "version": 2
   },
   "file_extension": ".py",
   "mimetype": "text/x-python",
   "name": "python",
   "nbconvert_exporter": "python",
   "pygments_lexer": "ipython2",
   "version": "2.7.10"
  }
 },
 "nbformat": 4,
 "nbformat_minor": 2
}
